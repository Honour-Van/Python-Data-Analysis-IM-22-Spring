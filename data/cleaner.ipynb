{
 "cells": [
  {
   "cell_type": "code",
   "execution_count": 19,
   "metadata": {},
   "outputs": [
    {
     "name": "stdout",
     "output_type": "stream",
     "text": [
      "['Mood', 'Administration response', 'Green Key 1', 'Green Key 2', 'Events', 'Cancelled Classes', 'Dimensions', 'Dining Halls', 'Activity', 'Mood 1', 'Mood 2', 'Class 2', 'Dimensions protestors', 'Comment', 'Dartmouth now', 'Behavior', 'Class', 'Lab', 'Stress', 'Boston Bombing', 'Exercise', 'Social', 'Study Spaces', 'Sleep']\n"
     ]
    }
   ],
   "source": [
    "from cleaner import Cleaner\n",
    "import os\n",
    "\n",
    "dataset = \"D:\\\\OneDrive - pku.edu.cn\\\\datasets\\\\studentlife\\\\EMA\\\\response\\\\\"\n",
    "output_path = \".\\\\EMA\\\\\"\n",
    "\n",
    "cln = Cleaner(dataset, output_path)\n",
    "\n",
    "tasks = list(set(os.listdir(dataset)) - set([\"PAM\", \"QR_Code\"]))\n",
    "print(tasks)\n",
    "\n",
    "for task in tasks:\n",
    "    cln.clean_json(task)\n"
   ]
  }
 ],
 "metadata": {
  "interpreter": {
   "hash": "67f1dc6f6f712f7142079021955b91e049abb319dcfdc9eed010dd73dd4d845d"
  },
  "kernelspec": {
   "display_name": "Python 3.9.5 64-bit",
   "language": "python",
   "name": "python3"
  },
  "language_info": {
   "codemirror_mode": {
    "name": "ipython",
    "version": 3
   },
   "file_extension": ".py",
   "mimetype": "text/x-python",
   "name": "python",
   "nbconvert_exporter": "python",
   "pygments_lexer": "ipython3",
   "version": "3.9.5"
  }
 },
 "nbformat": 4,
 "nbformat_minor": 4
}
