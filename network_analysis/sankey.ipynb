{
 "cells": [
  {
   "cell_type": "markdown",
   "metadata": {},
   "source": [
    "这里做语言流向的桑基图，首先，为了和文本分析中的舆论趋势对应，我们这里首先做2020年数据中实际到预期的桑基图。\n",
    "\n",
    "我们将一个程序员`当前实际在用的技术`到`预期使用的技术`绘制为整个技术流向网络中的一条有向边，如果这条边存在，则为其增加边权，统计每个节点的入度（被预期的那些）和出度之和，就能反映出舆论趋势的变化。"
   ]
  },
  {
   "cell_type": "code",
   "execution_count": 2,
   "metadata": {},
   "outputs": [],
   "source": [
    "# 导入数据\n",
    "import pandas as pd\n",
    "\n",
    "data1=pd.read_csv(\"../data/2020/survey_results_public.csv\")\n",
    "languages = data1[[\"LanguageWorkedWith\", \"LanguageDesireNextYear\"]]\n",
    "languages = languages.dropna()"
   ]
  },
  {
   "cell_type": "code",
   "execution_count": 3,
   "metadata": {},
   "outputs": [],
   "source": [
    "# 对网络中的边进行统计\n",
    "langs_transition = dict()\n",
    "for row in languages.itertuples():\n",
    "    for from_lang in row.LanguageWorkedWith.split(';'):\n",
    "        for to_lang in row.LanguageDesireNextYear.split(';'):\n",
    "            # if from_lang == to_lang:\n",
    "            #     continue\n",
    "            langs_transition[(from_lang, to_lang)] = langs_transition.get((from_lang, to_lang), 0) + 1"
   ]
  },
  {
   "cell_type": "code",
   "execution_count": 4,
   "metadata": {},
   "outputs": [],
   "source": [
    "# 准备桑基图节点\n",
    "links = []\n",
    "\n",
    "from_langs = set()\n",
    "to_langs = set()\n",
    "\n",
    "for key, value in langs_transition.items():\n",
    "    if value < 5000:\n",
    "        continue\n",
    "    from_langs.add(key[0])\n",
    "    to_langs.add(key[1])\n",
    "    links.append({'source': 'from ' + key[0], 'target':'to ' + key[1], 'value': value})"
   ]
  },
  {
   "cell_type": "code",
   "execution_count": 5,
   "metadata": {},
   "outputs": [
    {
     "name": "stdout",
     "output_type": "stream",
     "text": [
      "['Assembly', 'Bash/Shell/PowerShell', 'C', 'C#', 'C++', 'Dart', 'Go', 'HTML/CSS', 'Haskell', 'Java', 'JavaScript', 'Julia', 'Kotlin', 'Objective-C', 'PHP', 'Perl', 'Python', 'R', 'Ruby', 'Rust', 'SQL', 'Scala', 'Swift', 'TypeScript', 'VBA']\n"
     ]
    }
   ],
   "source": [
    "# 接下来尝试对语言节点进行颜色的手工标注\n",
    "all_langs = set()\n",
    "for row in languages.itertuples():\n",
    "    all_langs.update(set(row.LanguageWorkedWith.split(';')))\n",
    "    all_langs.update(set(row.LanguageDesireNextYear.split(';')))\n",
    "print(sorted(list(all_langs)))"
   ]
  },
  {
   "cell_type": "code",
   "execution_count": 6,
   "metadata": {},
   "outputs": [],
   "source": [
    "# 参考https://github.com/ozh/github-colors/blob/master/colors.json中给出的语言-颜色对照\n",
    "palette = {\n",
    "    'Assembly': '#6E4C13', 'Bash/Shell/PowerShell': '#012456', 'C': '#555555', 'C#': '#178600',\n",
    "    'C++': '#f34b7d', 'Dart': '#00B4AB', 'Go': '#00ADD8', 'HTML/CSS': '#e34c26', 'Haskell': '#5e5086',\n",
    "    'Java': '#b07219', 'JavaScript': '#f1e05a', 'Julia': '#a270ba', 'Kotlin': '#28430A',\n",
    "    'Objective-C': '#438eff', 'PHP': '#4F5D95', 'Perl': '#0298c3', 'Python': '#3572A5',\n",
    "    'R': '#198CE7', 'Ruby': '#701516', 'Rust': '#dea584', 'SQL': '#e38c00', 'Scala': '#c22d40',\n",
    "    'Swift': '#F05138', 'TypeScript': '#2b7489', 'VBA': '#867db1'\n",
    "}\n"
   ]
  },
  {
   "cell_type": "code",
   "execution_count": 26,
   "metadata": {},
   "outputs": [],
   "source": [
    "# 准备节点\n",
    "nodes = []\n",
    "for lang in from_langs:\n",
    "    nodes.append({'name': 'from ' + lang, 'itemStyle':{'color': palette[lang]}})\n",
    "for lang in to_langs:\n",
    "    nodes.append({'name': 'to ' + lang, 'itemStyle':{'color': palette[lang]}})\n",
    "nodes = sorted(nodes, key=lambda x: x['name'])"
   ]
  },
  {
   "cell_type": "code",
   "execution_count": 27,
   "metadata": {},
   "outputs": [
    {
     "data": {
      "text/plain": [
       "'f:\\\\reimagined-octo-guide\\\\network_analysis\\\\output\\\\language_sankey.html'"
      ]
     },
     "execution_count": 27,
     "metadata": {},
     "output_type": "execute_result"
    }
   ],
   "source": [
    "# 绘制桑基图\n",
    "from pyecharts import options as opts\n",
    "from pyecharts.charts import Sankey\n",
    "\n",
    "Sankey(\n",
    "    init_opts=opts.InitOpts(\n",
    "        width='1000px',\n",
    "        height='800px',\n",
    "        bg_color='#fff'\n",
    "    )\n",
    ").add(\n",
    "    '',\n",
    "    nodes,\n",
    "    links,\n",
    "    node_gap=0,\n",
    "    node_width=160,\n",
    "    pos_right='5%',\n",
    "    node_align='justify',\n",
    "    focus_node_adjacency=True,\n",
    "    linestyle_opt=opts.LineStyleOpts(curve=0.5, opacity=0.2, color=\"source\"),\n",
    "    label_opts=opts.LabelOpts(position='inside', color='white'),\n",
    "    itemstyle_opts=opts.ItemStyleOpts(border_color=\"#fff\"),\n",
    ").render('output/language_sankey.html')"
   ]
  },
  {
   "cell_type": "markdown",
   "metadata": {},
   "source": [
    "在这个分析中，入度大于出度的那些节点对应的语言有着更高的舆论趋势。从上面的结果中我们可以看出，有较为明显趋势的语言如下：\n",
    "1. 扩大：Python（1/4希望留用），TypeScript，还有本年度不在热门列的Rust、Go和Kotlin。\n",
    "2. 缩小：Java（1/6希望留用）转向Python、Javascript、Go等，C（几乎消亡）\n",
    "\n",
    "有趣的是，上述七种语言，除TypeScript和Kotlin之外的其余五种有一些共性：\n",
    "1. 在文本分析部分中，词频都高于JavaScript\n",
    "2. 都是典型的后端语言。\n",
    "\n",
    "我们的猜想是，这可能是前端程序员有着“TypeScript是下一代Javascript”的普遍认知，因而没有产生较多的讨论，而后端技术的更迭往往伴随着大量的讨论。这或许在一定程度上说明了前端界技术认知的一致性，以及我们所设想的“后端技术壁垒”，即后端技术的更迭往往伴随着大量程序员的广泛讨论。\n",
    "\n",
    "Kotlin是Android端平台上替代Java的下一代开发语言，严格来讲不能归于前后端中的一方。但Kotlin的例子同样说明，**关于技术的认知是否一致，与社区中讨论的热度有关联。**\n",
    "\n",
    "当然我们必须说明的是，这个部分基于可视化而作，略显感性，是对我们结论的一个辅证。"
   ]
  },
  {
   "cell_type": "markdown",
   "metadata": {},
   "source": [
    "上述只完成了舆论趋势的展示，我们要看看实际上大家在使用技术方面变动有没有如此巨大。"
   ]
  },
  {
   "cell_type": "code",
   "execution_count": 51,
   "metadata": {},
   "outputs": [],
   "source": [
    "import pandas as pd\n",
    "from collections import Counter\n",
    "import plotly.express as px\n",
    "\n",
    "\n",
    "data1 = pd.read_csv(\"../data/2020/survey_results_public.csv\")\n",
    "data2 = pd.read_csv(\"../data/2021/survey_results_responses.csv\")\n",
    "\n",
    "languages1 = data1['LanguageWorkedWith'].dropna()\n",
    "languages2 = data2['LanguageHaveWorkedWith'].dropna()\n",
    "\n",
    "lang_stat1 = Counter([lang for langs in languages1 for lang in langs.split(';')])\n",
    "lang_stat2 = Counter([lang for langs in languages2 for lang in langs.split(';')])"
   ]
  },
  {
   "cell_type": "code",
   "execution_count": 63,
   "metadata": {},
   "outputs": [],
   "source": [
    "lang_stat_df1 = pd.DataFrame(lang_stat1.most_common(), columns=['Language', 'Count'])\n",
    "lang_stat_df2 = pd.DataFrame(lang_stat2.most_common(), columns=['Language', 'Count'])\n",
    "\n",
    "syno_dict = {'Bash/Shell/PowerShell':'Bash/Shell'}\n",
    "lang_stat_df1 = lang_stat_df1.replace(syno_dict)\n",
    "lang_stat_df1 = lang_stat_df1.head(16)\n",
    "\n",
    "lang_stat_df2 = lang_stat_df2.head(16)"
   ]
  },
  {
   "cell_type": "code",
   "execution_count": 64,
   "metadata": {},
   "outputs": [
    {
     "data": {
      "application/vnd.plotly.v1+json": {
       "config": {
        "plotlyServerURL": "https://plot.ly"
       },
       "data": [
        {
         "domain": {
          "x": [
           0,
           0.45
          ],
          "y": [
           0,
           1
          ]
         },
         "hole": 0.4,
         "hoverinfo": "label+percent+name",
         "labels": [
          "JavaScript",
          "HTML/CSS",
          "SQL",
          "Python",
          "Java",
          "Bash/Shell",
          "C#",
          "PHP",
          "TypeScript",
          "C++",
          "C",
          "Go",
          "Kotlin",
          "Ruby",
          "Assembly",
          "VBA"
         ],
         "name": "2020",
         "type": "pie",
         "values": [
          38822,
          36181,
          31413,
          25287,
          23074,
          18980,
          18041,
          15007,
          14578,
          13707,
          12487,
          5038,
          4468,
          4046,
          3553,
          3499
         ]
        },
        {
         "domain": {
          "x": [
           0.55,
           1
          ],
          "y": [
           0,
           1
          ]
         },
         "hole": 0.4,
         "hoverinfo": "label+percent+name",
         "labels": [
          "JavaScript",
          "HTML/CSS",
          "Python",
          "SQL",
          "Java",
          "Node.js",
          "TypeScript",
          "C#",
          "Bash/Shell",
          "C++",
          "PHP",
          "C",
          "PowerShell",
          "Go",
          "Kotlin",
          "Rust"
         ],
         "name": "2021",
         "type": "pie",
         "values": [
          53587,
          46259,
          39792,
          38835,
          29162,
          27975,
          24909,
          22984,
          22385,
          20057,
          18130,
          17329,
          8871,
          7879,
          6866,
          5799
         ]
        }
       ],
       "layout": {
        "annotations": [
         {
          "font": {
           "size": 20
          },
          "showarrow": false,
          "text": "2020",
          "x": 0.2,
          "y": 0.5
         },
         {
          "font": {
           "size": 20
          },
          "showarrow": false,
          "text": "2021",
          "x": 0.81,
          "y": 0.5
         }
        ],
        "template": {
         "data": {
          "bar": [
           {
            "error_x": {
             "color": "#2a3f5f"
            },
            "error_y": {
             "color": "#2a3f5f"
            },
            "marker": {
             "line": {
              "color": "#E5ECF6",
              "width": 0.5
             },
             "pattern": {
              "fillmode": "overlay",
              "size": 10,
              "solidity": 0.2
             }
            },
            "type": "bar"
           }
          ],
          "barpolar": [
           {
            "marker": {
             "line": {
              "color": "#E5ECF6",
              "width": 0.5
             },
             "pattern": {
              "fillmode": "overlay",
              "size": 10,
              "solidity": 0.2
             }
            },
            "type": "barpolar"
           }
          ],
          "carpet": [
           {
            "aaxis": {
             "endlinecolor": "#2a3f5f",
             "gridcolor": "white",
             "linecolor": "white",
             "minorgridcolor": "white",
             "startlinecolor": "#2a3f5f"
            },
            "baxis": {
             "endlinecolor": "#2a3f5f",
             "gridcolor": "white",
             "linecolor": "white",
             "minorgridcolor": "white",
             "startlinecolor": "#2a3f5f"
            },
            "type": "carpet"
           }
          ],
          "choropleth": [
           {
            "colorbar": {
             "outlinewidth": 0,
             "ticks": ""
            },
            "type": "choropleth"
           }
          ],
          "contour": [
           {
            "colorbar": {
             "outlinewidth": 0,
             "ticks": ""
            },
            "colorscale": [
             [
              0,
              "#0d0887"
             ],
             [
              0.1111111111111111,
              "#46039f"
             ],
             [
              0.2222222222222222,
              "#7201a8"
             ],
             [
              0.3333333333333333,
              "#9c179e"
             ],
             [
              0.4444444444444444,
              "#bd3786"
             ],
             [
              0.5555555555555556,
              "#d8576b"
             ],
             [
              0.6666666666666666,
              "#ed7953"
             ],
             [
              0.7777777777777778,
              "#fb9f3a"
             ],
             [
              0.8888888888888888,
              "#fdca26"
             ],
             [
              1,
              "#f0f921"
             ]
            ],
            "type": "contour"
           }
          ],
          "contourcarpet": [
           {
            "colorbar": {
             "outlinewidth": 0,
             "ticks": ""
            },
            "type": "contourcarpet"
           }
          ],
          "heatmap": [
           {
            "colorbar": {
             "outlinewidth": 0,
             "ticks": ""
            },
            "colorscale": [
             [
              0,
              "#0d0887"
             ],
             [
              0.1111111111111111,
              "#46039f"
             ],
             [
              0.2222222222222222,
              "#7201a8"
             ],
             [
              0.3333333333333333,
              "#9c179e"
             ],
             [
              0.4444444444444444,
              "#bd3786"
             ],
             [
              0.5555555555555556,
              "#d8576b"
             ],
             [
              0.6666666666666666,
              "#ed7953"
             ],
             [
              0.7777777777777778,
              "#fb9f3a"
             ],
             [
              0.8888888888888888,
              "#fdca26"
             ],
             [
              1,
              "#f0f921"
             ]
            ],
            "type": "heatmap"
           }
          ],
          "heatmapgl": [
           {
            "colorbar": {
             "outlinewidth": 0,
             "ticks": ""
            },
            "colorscale": [
             [
              0,
              "#0d0887"
             ],
             [
              0.1111111111111111,
              "#46039f"
             ],
             [
              0.2222222222222222,
              "#7201a8"
             ],
             [
              0.3333333333333333,
              "#9c179e"
             ],
             [
              0.4444444444444444,
              "#bd3786"
             ],
             [
              0.5555555555555556,
              "#d8576b"
             ],
             [
              0.6666666666666666,
              "#ed7953"
             ],
             [
              0.7777777777777778,
              "#fb9f3a"
             ],
             [
              0.8888888888888888,
              "#fdca26"
             ],
             [
              1,
              "#f0f921"
             ]
            ],
            "type": "heatmapgl"
           }
          ],
          "histogram": [
           {
            "marker": {
             "pattern": {
              "fillmode": "overlay",
              "size": 10,
              "solidity": 0.2
             }
            },
            "type": "histogram"
           }
          ],
          "histogram2d": [
           {
            "colorbar": {
             "outlinewidth": 0,
             "ticks": ""
            },
            "colorscale": [
             [
              0,
              "#0d0887"
             ],
             [
              0.1111111111111111,
              "#46039f"
             ],
             [
              0.2222222222222222,
              "#7201a8"
             ],
             [
              0.3333333333333333,
              "#9c179e"
             ],
             [
              0.4444444444444444,
              "#bd3786"
             ],
             [
              0.5555555555555556,
              "#d8576b"
             ],
             [
              0.6666666666666666,
              "#ed7953"
             ],
             [
              0.7777777777777778,
              "#fb9f3a"
             ],
             [
              0.8888888888888888,
              "#fdca26"
             ],
             [
              1,
              "#f0f921"
             ]
            ],
            "type": "histogram2d"
           }
          ],
          "histogram2dcontour": [
           {
            "colorbar": {
             "outlinewidth": 0,
             "ticks": ""
            },
            "colorscale": [
             [
              0,
              "#0d0887"
             ],
             [
              0.1111111111111111,
              "#46039f"
             ],
             [
              0.2222222222222222,
              "#7201a8"
             ],
             [
              0.3333333333333333,
              "#9c179e"
             ],
             [
              0.4444444444444444,
              "#bd3786"
             ],
             [
              0.5555555555555556,
              "#d8576b"
             ],
             [
              0.6666666666666666,
              "#ed7953"
             ],
             [
              0.7777777777777778,
              "#fb9f3a"
             ],
             [
              0.8888888888888888,
              "#fdca26"
             ],
             [
              1,
              "#f0f921"
             ]
            ],
            "type": "histogram2dcontour"
           }
          ],
          "mesh3d": [
           {
            "colorbar": {
             "outlinewidth": 0,
             "ticks": ""
            },
            "type": "mesh3d"
           }
          ],
          "parcoords": [
           {
            "line": {
             "colorbar": {
              "outlinewidth": 0,
              "ticks": ""
             }
            },
            "type": "parcoords"
           }
          ],
          "pie": [
           {
            "automargin": true,
            "type": "pie"
           }
          ],
          "scatter": [
           {
            "fillpattern": {
             "fillmode": "overlay",
             "size": 10,
             "solidity": 0.2
            },
            "type": "scatter"
           }
          ],
          "scatter3d": [
           {
            "line": {
             "colorbar": {
              "outlinewidth": 0,
              "ticks": ""
             }
            },
            "marker": {
             "colorbar": {
              "outlinewidth": 0,
              "ticks": ""
             }
            },
            "type": "scatter3d"
           }
          ],
          "scattercarpet": [
           {
            "marker": {
             "colorbar": {
              "outlinewidth": 0,
              "ticks": ""
             }
            },
            "type": "scattercarpet"
           }
          ],
          "scattergeo": [
           {
            "marker": {
             "colorbar": {
              "outlinewidth": 0,
              "ticks": ""
             }
            },
            "type": "scattergeo"
           }
          ],
          "scattergl": [
           {
            "marker": {
             "colorbar": {
              "outlinewidth": 0,
              "ticks": ""
             }
            },
            "type": "scattergl"
           }
          ],
          "scattermapbox": [
           {
            "marker": {
             "colorbar": {
              "outlinewidth": 0,
              "ticks": ""
             }
            },
            "type": "scattermapbox"
           }
          ],
          "scatterpolar": [
           {
            "marker": {
             "colorbar": {
              "outlinewidth": 0,
              "ticks": ""
             }
            },
            "type": "scatterpolar"
           }
          ],
          "scatterpolargl": [
           {
            "marker": {
             "colorbar": {
              "outlinewidth": 0,
              "ticks": ""
             }
            },
            "type": "scatterpolargl"
           }
          ],
          "scatterternary": [
           {
            "marker": {
             "colorbar": {
              "outlinewidth": 0,
              "ticks": ""
             }
            },
            "type": "scatterternary"
           }
          ],
          "surface": [
           {
            "colorbar": {
             "outlinewidth": 0,
             "ticks": ""
            },
            "colorscale": [
             [
              0,
              "#0d0887"
             ],
             [
              0.1111111111111111,
              "#46039f"
             ],
             [
              0.2222222222222222,
              "#7201a8"
             ],
             [
              0.3333333333333333,
              "#9c179e"
             ],
             [
              0.4444444444444444,
              "#bd3786"
             ],
             [
              0.5555555555555556,
              "#d8576b"
             ],
             [
              0.6666666666666666,
              "#ed7953"
             ],
             [
              0.7777777777777778,
              "#fb9f3a"
             ],
             [
              0.8888888888888888,
              "#fdca26"
             ],
             [
              1,
              "#f0f921"
             ]
            ],
            "type": "surface"
           }
          ],
          "table": [
           {
            "cells": {
             "fill": {
              "color": "#EBF0F8"
             },
             "line": {
              "color": "white"
             }
            },
            "header": {
             "fill": {
              "color": "#C8D4E3"
             },
             "line": {
              "color": "white"
             }
            },
            "type": "table"
           }
          ]
         },
         "layout": {
          "annotationdefaults": {
           "arrowcolor": "#2a3f5f",
           "arrowhead": 0,
           "arrowwidth": 1
          },
          "autotypenumbers": "strict",
          "coloraxis": {
           "colorbar": {
            "outlinewidth": 0,
            "ticks": ""
           }
          },
          "colorscale": {
           "diverging": [
            [
             0,
             "#8e0152"
            ],
            [
             0.1,
             "#c51b7d"
            ],
            [
             0.2,
             "#de77ae"
            ],
            [
             0.3,
             "#f1b6da"
            ],
            [
             0.4,
             "#fde0ef"
            ],
            [
             0.5,
             "#f7f7f7"
            ],
            [
             0.6,
             "#e6f5d0"
            ],
            [
             0.7,
             "#b8e186"
            ],
            [
             0.8,
             "#7fbc41"
            ],
            [
             0.9,
             "#4d9221"
            ],
            [
             1,
             "#276419"
            ]
           ],
           "sequential": [
            [
             0,
             "#0d0887"
            ],
            [
             0.1111111111111111,
             "#46039f"
            ],
            [
             0.2222222222222222,
             "#7201a8"
            ],
            [
             0.3333333333333333,
             "#9c179e"
            ],
            [
             0.4444444444444444,
             "#bd3786"
            ],
            [
             0.5555555555555556,
             "#d8576b"
            ],
            [
             0.6666666666666666,
             "#ed7953"
            ],
            [
             0.7777777777777778,
             "#fb9f3a"
            ],
            [
             0.8888888888888888,
             "#fdca26"
            ],
            [
             1,
             "#f0f921"
            ]
           ],
           "sequentialminus": [
            [
             0,
             "#0d0887"
            ],
            [
             0.1111111111111111,
             "#46039f"
            ],
            [
             0.2222222222222222,
             "#7201a8"
            ],
            [
             0.3333333333333333,
             "#9c179e"
            ],
            [
             0.4444444444444444,
             "#bd3786"
            ],
            [
             0.5555555555555556,
             "#d8576b"
            ],
            [
             0.6666666666666666,
             "#ed7953"
            ],
            [
             0.7777777777777778,
             "#fb9f3a"
            ],
            [
             0.8888888888888888,
             "#fdca26"
            ],
            [
             1,
             "#f0f921"
            ]
           ]
          },
          "colorway": [
           "#636efa",
           "#EF553B",
           "#00cc96",
           "#ab63fa",
           "#FFA15A",
           "#19d3f3",
           "#FF6692",
           "#B6E880",
           "#FF97FF",
           "#FECB52"
          ],
          "font": {
           "color": "#2a3f5f"
          },
          "geo": {
           "bgcolor": "white",
           "lakecolor": "white",
           "landcolor": "#E5ECF6",
           "showlakes": true,
           "showland": true,
           "subunitcolor": "white"
          },
          "hoverlabel": {
           "align": "left"
          },
          "hovermode": "closest",
          "mapbox": {
           "style": "light"
          },
          "paper_bgcolor": "white",
          "plot_bgcolor": "#E5ECF6",
          "polar": {
           "angularaxis": {
            "gridcolor": "white",
            "linecolor": "white",
            "ticks": ""
           },
           "bgcolor": "#E5ECF6",
           "radialaxis": {
            "gridcolor": "white",
            "linecolor": "white",
            "ticks": ""
           }
          },
          "scene": {
           "xaxis": {
            "backgroundcolor": "#E5ECF6",
            "gridcolor": "white",
            "gridwidth": 2,
            "linecolor": "white",
            "showbackground": true,
            "ticks": "",
            "zerolinecolor": "white"
           },
           "yaxis": {
            "backgroundcolor": "#E5ECF6",
            "gridcolor": "white",
            "gridwidth": 2,
            "linecolor": "white",
            "showbackground": true,
            "ticks": "",
            "zerolinecolor": "white"
           },
           "zaxis": {
            "backgroundcolor": "#E5ECF6",
            "gridcolor": "white",
            "gridwidth": 2,
            "linecolor": "white",
            "showbackground": true,
            "ticks": "",
            "zerolinecolor": "white"
           }
          },
          "shapedefaults": {
           "line": {
            "color": "#2a3f5f"
           }
          },
          "ternary": {
           "aaxis": {
            "gridcolor": "white",
            "linecolor": "white",
            "ticks": ""
           },
           "baxis": {
            "gridcolor": "white",
            "linecolor": "white",
            "ticks": ""
           },
           "bgcolor": "#E5ECF6",
           "caxis": {
            "gridcolor": "white",
            "linecolor": "white",
            "ticks": ""
           }
          },
          "title": {
           "x": 0.05
          },
          "xaxis": {
           "automargin": true,
           "gridcolor": "white",
           "linecolor": "white",
           "ticks": "",
           "title": {
            "standoff": 15
           },
           "zerolinecolor": "white",
           "zerolinewidth": 2
          },
          "yaxis": {
           "automargin": true,
           "gridcolor": "white",
           "linecolor": "white",
           "ticks": "",
           "title": {
            "standoff": 15
           },
           "zerolinecolor": "white",
           "zerolinewidth": 2
          }
         }
        },
        "title": {
         "text": "Stack Overflow Survey Language Usage 2020-2021"
        }
       }
      }
     },
     "metadata": {},
     "output_type": "display_data"
    }
   ],
   "source": [
    "import plotly.graph_objects as go\n",
    "from plotly.subplots import make_subplots\n",
    "\n",
    "# Create subplots: use 'domain' type for Pie subplot\n",
    "fig = make_subplots(rows=1, cols=2, specs=[[{'type':'domain'}, {'type':'domain'}]])\n",
    "\n",
    "fig.add_trace(go.Pie(labels=lang_stat_df1['Language'], values=lang_stat_df1['Count'], name='2020'), row=1, col=1)\n",
    "\n",
    "fig.add_trace(go.Pie(labels=lang_stat_df2['Language'], values=lang_stat_df2['Count'], name='2021'), row=1, col=2)\n",
    "\n",
    "# Use `hole` to create a donut-like pie chart\n",
    "fig.update_traces(hole=.4, hoverinfo=\"label+percent+name\")\n",
    "\n",
    "fig.update_layout(\n",
    "    title_text=\"Stack Overflow Survey Language Usage 2020-2021\",\n",
    "    # Add annotations in the center of the donut pies.\n",
    "    annotations=[dict(text='2020', x=0.20, y=0.5, font_size=20, showarrow=False),\n",
    "                 dict(text='2021', x=0.81, y=0.5, font_size=20, showarrow=False)])\n",
    "fig.show()\n"
   ]
  },
  {
   "cell_type": "markdown",
   "metadata": {},
   "source": [
    "之前我们做了大家用手投票（期望趋势）和用嘴投票（社区讨论）上的几个点，这里用大家用脚投票的结果进行检验：\n",
    "Python、TypeScript、Go、Rust、Kotlin使用人数确实有着显著的增长，Java确实下降了。令人奇怪的是C语言预期使用的人不多，讨论的人也不多，但使用人群并没有大量的下降，这和我们的猜想是一致的。\n",
    "\n",
    "关于这一点，我们猜想是C语言已经形成了其最优实践，形成了一个稳定的使用人群。我认为，这和Javascript的稳定性与内部强关联是一致的，不过Javascript的最优实践可能是入手容易、吸纳新人、大量实践的良性循环的结果。"
   ]
  }
 ],
 "metadata": {
  "interpreter": {
   "hash": "67f1dc6f6f712f7142079021955b91e049abb319dcfdc9eed010dd73dd4d845d"
  },
  "kernelspec": {
   "display_name": "Python 3.9.5 64-bit",
   "language": "python",
   "name": "python3"
  },
  "language_info": {
   "codemirror_mode": {
    "name": "ipython",
    "version": 3
   },
   "file_extension": ".py",
   "mimetype": "text/x-python",
   "name": "python",
   "nbconvert_exporter": "python",
   "pygments_lexer": "ipython3",
   "version": "3.9.5"
  },
  "orig_nbformat": 4
 },
 "nbformat": 4,
 "nbformat_minor": 2
}
