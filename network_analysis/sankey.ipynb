{
 "cells": [
  {
   "cell_type": "markdown",
   "metadata": {},
   "source": [
    "这里做语言流向的桑基图，首先，为了和文本分析中的舆论趋势对应，我们这里首先做2020年数据中实际到预期的桑基图。\n",
    "\n",
    "我们将一个程序员`当前实际在用的技术`到`预期使用的技术`绘制为整个技术流向网络中的一条有向边，如果这条边存在，则为其增加边权，统计每个节点的入度（被预期的那些）和出度之和，就能反映出舆论趋势的变化。"
   ]
  },
  {
   "cell_type": "code",
   "execution_count": 2,
   "metadata": {},
   "outputs": [],
   "source": [
    "# 导入数据\n",
    "import pandas as pd\n",
    "\n",
    "data1=pd.read_csv(\"../data/2020/survey_results_public.csv\")\n",
    "languages = data1[[\"LanguageWorkedWith\", \"LanguageDesireNextYear\"]]\n",
    "languages = languages.dropna()"
   ]
  },
  {
   "cell_type": "code",
   "execution_count": 3,
   "metadata": {},
   "outputs": [],
   "source": [
    "# 对网络中的边进行统计\n",
    "langs_transition = dict()\n",
    "for row in languages.itertuples():\n",
    "    for from_lang in row.LanguageWorkedWith.split(';'):\n",
    "        for to_lang in row.LanguageDesireNextYear.split(';'):\n",
    "            # if from_lang == to_lang:\n",
    "            #     continue\n",
    "            langs_transition[(from_lang, to_lang)] = langs_transition.get((from_lang, to_lang), 0) + 1"
   ]
  },
  {
   "cell_type": "code",
   "execution_count": 4,
   "metadata": {},
   "outputs": [],
   "source": [
    "# 准备桑基图节点\n",
    "links = []\n",
    "\n",
    "from_langs = set()\n",
    "to_langs = set()\n",
    "\n",
    "for key, value in langs_transition.items():\n",
    "    if value < 5000:\n",
    "        continue\n",
    "    from_langs.add(key[0])\n",
    "    to_langs.add(key[1])\n",
    "    links.append({'source': 'from ' + key[0], 'target':'to ' + key[1], 'value': value})"
   ]
  },
  {
   "cell_type": "code",
   "execution_count": 5,
   "metadata": {},
   "outputs": [
    {
     "name": "stdout",
     "output_type": "stream",
     "text": [
      "['Assembly', 'Bash/Shell/PowerShell', 'C', 'C#', 'C++', 'Dart', 'Go', 'HTML/CSS', 'Haskell', 'Java', 'JavaScript', 'Julia', 'Kotlin', 'Objective-C', 'PHP', 'Perl', 'Python', 'R', 'Ruby', 'Rust', 'SQL', 'Scala', 'Swift', 'TypeScript', 'VBA']\n"
     ]
    }
   ],
   "source": [
    "# 接下来尝试对语言节点进行颜色的手工标注\n",
    "all_langs = set()\n",
    "for row in languages.itertuples():\n",
    "    all_langs.update(set(row.LanguageWorkedWith.split(';')))\n",
    "    all_langs.update(set(row.LanguageDesireNextYear.split(';')))\n",
    "print(sorted(list(all_langs)))"
   ]
  },
  {
   "cell_type": "code",
   "execution_count": 6,
   "metadata": {},
   "outputs": [],
   "source": [
    "# 参考https://github.com/ozh/github-colors/blob/master/colors.json中给出的语言-颜色对照\n",
    "palette = {\n",
    "    'Assembly': '#6E4C13', 'Bash/Shell/PowerShell': '#012456', 'C': '#555555', 'C#': '#178600',\n",
    "    'C++': '#f34b7d', 'Dart': '#00B4AB', 'Go': '#00ADD8', 'HTML/CSS': '#e34c26', 'Haskell': '#5e5086',\n",
    "    'Java': '#b07219', 'JavaScript': '#f1e05a', 'Julia': '#a270ba', 'Kotlin': '#28430A',\n",
    "    'Objective-C': '#438eff', 'PHP': '#4F5D95', 'Perl': '#0298c3', 'Python': '#3572A5',\n",
    "    'R': '#198CE7', 'Ruby': '#701516', 'Rust': '#dea584', 'SQL': '#e38c00', 'Scala': '#c22d40',\n",
    "    'Swift': '#F05138', 'TypeScript': '#2b7489', 'VBA': '#867db1'\n",
    "}\n"
   ]
  },
  {
   "cell_type": "code",
   "execution_count": 9,
   "metadata": {},
   "outputs": [],
   "source": [
    "# 准备节点\n",
    "nodes = []\n",
    "for lang in from_langs:\n",
    "    nodes.append({'name': 'from ' + lang, 'itemStyle':{'color': palette[lang]}})\n",
    "for lang in to_langs:\n",
    "    nodes.append({'name': 'to ' + lang, 'itemStyle':{'color': palette[lang]}})"
   ]
  },
  {
   "cell_type": "code",
   "execution_count": 10,
   "metadata": {},
   "outputs": [
    {
     "data": {
      "text/plain": [
       "'f:\\\\reimagined-octo-guide\\\\network_analysis\\\\output\\\\language_sankey.html'"
      ]
     },
     "execution_count": 10,
     "metadata": {},
     "output_type": "execute_result"
    }
   ],
   "source": [
    "# 绘制桑基图\n",
    "from pyecharts import options as opts\n",
    "from pyecharts.charts import Sankey\n",
    "\n",
    "Sankey(\n",
    "    init_opts=opts.InitOpts(\n",
    "        width='1000px',\n",
    "        height='800px',\n",
    "        bg_color='#fff'\n",
    "    )\n",
    ").add(\n",
    "    '',\n",
    "    nodes,\n",
    "    links,\n",
    "    node_gap=0,\n",
    "    node_width=160,\n",
    "    pos_right='5%',\n",
    "    node_align='justify',\n",
    "    focus_node_adjacency=True,\n",
    "    linestyle_opt=opts.LineStyleOpts(curve=0.5, opacity=0.2, color=\"source\"),\n",
    "    label_opts=opts.LabelOpts(position='inside', color='white'),\n",
    "    itemstyle_opts=opts.ItemStyleOpts(border_color=\"#fff\"),\n",
    ").render('output/language_sankey.html')"
   ]
  },
  {
   "cell_type": "markdown",
   "metadata": {},
   "source": [
    "在这个分析中，入度大于出度的那些节点对应的语言有着更高的舆论趋势。从上面的结果中我们可以看出，有较为明显趋势的语言如下：\n",
    "1. 扩大：Python（1/4希望留用），TypeScript，还有本年度不在热门列的Rust、Go和Kotlin。\n",
    "2. 缩小：Java（1/6希望留用）转向Python、Javascript、Go等，C（几乎消亡）\n",
    "\n",
    "有趣的是，上述七种语言，除TypeScript和Kotlin之外的其余五种有一些共性：\n",
    "1. 在文本分析部分中，词频都高于JavaScript\n",
    "2. 都是典型的后端语言。\n",
    "\n",
    "我们的猜想是，这可能是前端程序员有着“TypeScript是下一代Javascript”的普遍认知，因而没有产生较多的讨论，而后端技术的更迭往往伴随着大量的讨论。这或许在一定程度上说明了前端界技术认知的一致性，以及我们所设想的“后端技术壁垒”，即后端技术的更迭往往伴随着大量程序员的广泛讨论。\n",
    "\n",
    "Kotlin是Android端平台上替代Java的下一代开发语言，严格来讲不能归于前后端中的一方。但Kotlin的例子同样说明，关于技术的认知是否一致，与社区中讨论的热度有关联。\n",
    "\n",
    "当然我们必须说明的是，这个部分基于可视化而作，略显感性，是对我们结论的一个辅证。"
   ]
  },
  {
   "cell_type": "code",
   "execution_count": null,
   "metadata": {},
   "outputs": [],
   "source": []
  }
 ],
 "metadata": {
  "interpreter": {
   "hash": "67f1dc6f6f712f7142079021955b91e049abb319dcfdc9eed010dd73dd4d845d"
  },
  "kernelspec": {
   "display_name": "Python 3.9.5 64-bit",
   "language": "python",
   "name": "python3"
  },
  "language_info": {
   "codemirror_mode": {
    "name": "ipython",
    "version": 3
   },
   "file_extension": ".py",
   "mimetype": "text/x-python",
   "name": "python",
   "nbconvert_exporter": "python",
   "pygments_lexer": "ipython3",
   "version": "3.9.5"
  },
  "orig_nbformat": 4
 },
 "nbformat": 4,
 "nbformat_minor": 2
}
