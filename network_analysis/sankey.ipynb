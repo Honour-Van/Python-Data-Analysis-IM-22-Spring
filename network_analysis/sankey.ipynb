{
 "cells": [
  {
   "cell_type": "markdown",
   "metadata": {},
   "source": [
    "这里做语言流向的桑基图"
   ]
  },
  {
   "cell_type": "code",
   "execution_count": 10,
   "metadata": {},
   "outputs": [],
   "source": [
    "import pandas as pd\n",
    "\n",
    "data1=pd.read_csv(\"../data/2020/survey_results_public.csv\")\n",
    "languages = data1[[\"LanguageWorkedWith\", \"LanguageDesireNextYear\"]]\n",
    "languages = languages.dropna()"
   ]
  },
  {
   "cell_type": "code",
   "execution_count": 11,
   "metadata": {},
   "outputs": [],
   "source": [
    "langs_transition = dict()\n",
    "for row in languages.itertuples():\n",
    "    for from_lang in row.LanguageWorkedWith.split(';'):\n",
    "        for to_lang in row.LanguageDesireNextYear.split(';'):\n",
    "            # if from_lang == to_lang:\n",
    "            #     continue\n",
    "            langs_transition[(from_lang, to_lang)] = langs_transition.get((from_lang, to_lang), 0) + 1"
   ]
  },
  {
   "cell_type": "code",
   "execution_count": 14,
   "metadata": {},
   "outputs": [],
   "source": [
    "links = []\n",
    "\n",
    "from_langs = set()\n",
    "to_langs = set()\n",
    "\n",
    "for key, value in langs_transition.items():\n",
    "    if value < 5000:\n",
    "        continue\n",
    "    from_langs.add(key[0])\n",
    "    to_langs.add(key[1])\n",
    "    links.append({'source': 'from ' + key[0], 'target':'to ' + key[1], 'value': value})"
   ]
  },
  {
   "cell_type": "code",
   "execution_count": null,
   "metadata": {},
   "outputs": [],
   "source": [
    "nodes = []\n",
    "for lang in from_langs:\n",
    "    nodes.append({'name': 'from ' + lang})\n",
    "for lang in to_langs:\n",
    "    nodes.append({'name': 'to ' + lang})"
   ]
  },
  {
   "cell_type": "code",
   "execution_count": 15,
   "metadata": {},
   "outputs": [
    {
     "data": {
      "text/plain": [
       "'f:\\\\reimagined-octo-guide\\\\network_analysis\\\\output\\\\language_sankey.html'"
      ]
     },
     "execution_count": 15,
     "metadata": {},
     "output_type": "execute_result"
    }
   ],
   "source": [
    "from pyecharts import options as opts\n",
    "from pyecharts.charts import Sankey\n",
    "\n",
    "Sankey(\n",
    "    init_opts=opts.InitOpts(\n",
    "        width='1000px',\n",
    "        height='800px',\n",
    "        bg_color='#fff'\n",
    "    )\n",
    ").add(\n",
    "    '',\n",
    "    nodes,\n",
    "    links,\n",
    "    node_gap=0,\n",
    "    node_width=160,\n",
    "    pos_right='5%',\n",
    "    node_align='justify',\n",
    "    focus_node_adjacency=True,\n",
    "    linestyle_opt=opts.LineStyleOpts(curve=0.5, opacity=0.2, color=\"source\"),\n",
    "    label_opts=opts.LabelOpts(position='inside', color='white'),\n",
    "    itemstyle_opts=opts.ItemStyleOpts(border_color=\"#fff\"),\n",
    ").render('output/language_sankey.html')"
   ]
  },
  {
   "cell_type": "markdown",
   "metadata": {},
   "source": [
    "我们定义从当前状况到预期状况的变动称为趋势，预期大于当前使用称为扩大趋势，反之为缩小。从上面的结果中我们可以看出，有较为明显趋势的语言如下：\n",
    "1. 扩大：Python（1/4希望留用），TypeScript，还有本年度不在热门列的Rust、Go和Kotlin。\n",
    "2. 缩小：Java（1/6希望留用）转向Python、Javascript、Go等，C（几乎消亡）\n",
    "\n",
    "有趣的是，上述六种语言，除TypeScript和Kotlin之外的其余五种有一些共性：\n",
    "1. 在文本分析部分中，词频都高于JavaScript\n",
    "2. 都是典型的后端语言。\n",
    "\n",
    "我们的猜想是，这可能是前端程序员有着“TypeScript是下一代Javascript”的普遍认知，因而没有产生较多的讨论，而后端技术的更迭往往伴随着大量的讨论。这或许在一定程度上说明了前端界技术认知的一致性，以及我们所设想的“后端技术壁垒”，即后端技术的更迭往往伴随着大量程序员的广泛讨论。\n",
    "\n",
    "Kotlin是Android端平台上替代Java的下一代开发语言，严格来讲不能归于前后端中的一方。但Kotlin的例子同样说明，关于技术的认知是否一致，与社区中讨论的热度有关联。\n",
    "\n",
    "当然我们必须说明的是，这个部分基于可视化而作，略显感性，是对我们结论的一个辅证。"
   ]
  }
 ],
 "metadata": {
  "interpreter": {
   "hash": "67f1dc6f6f712f7142079021955b91e049abb319dcfdc9eed010dd73dd4d845d"
  },
  "kernelspec": {
   "display_name": "Python 3.9.5 64-bit",
   "language": "python",
   "name": "python3"
  },
  "language_info": {
   "codemirror_mode": {
    "name": "ipython",
    "version": 3
   },
   "file_extension": ".py",
   "mimetype": "text/x-python",
   "name": "python",
   "nbconvert_exporter": "python",
   "pygments_lexer": "ipython3",
   "version": "3.9.5"
  },
  "orig_nbformat": 4
 },
 "nbformat": 4,
 "nbformat_minor": 2
}
