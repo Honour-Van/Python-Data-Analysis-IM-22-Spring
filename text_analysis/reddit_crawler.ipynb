{
 "cells": [
  {
   "cell_type": "code",
   "execution_count": 2,
   "metadata": {},
   "outputs": [
    {
     "name": "stdout",
     "output_type": "stream",
     "text": [
      "245 finished\r"
     ]
    }
   ],
   "source": [
    "import praw\n",
    "import pandas as pd\n",
    "import json\n",
    "\n",
    "reddit = praw.Reddit(client_id='s6nlW973WGfLMBxrZmj_4Q',\n",
    "                     client_secret='vTOoilaZJN2AyrVNlhDQ38v2EeSRpA', user_agent='Script by /u/bot1')  # 可能需要代理；另外，临时的client app可能后续会删除，请按照https://github.com/reddit-archive/reddit/wiki/OAuth2注册自己的client app\n",
    "\n",
    "with open('links.json', 'r', encoding='utf-8') as f:\n",
    "    links = json.load(f)\n",
    "\n",
    "for id, link in enumerate(links):\n",
    "    submission = reddit.submission(url=link)\n",
    "\n",
    "    data = pd.DataFrame()\n",
    "    submission.comments.replace_more(limit=99999)\n",
    "    for top_level_comment in submission.comments.list():\n",
    "        data = data.append({'username': top_level_comment.author,\n",
    "                            'comment_created_utc': top_level_comment.created_utc,\n",
    "                            'comment_score': top_level_comment.score,\n",
    "                            'comment_text': top_level_comment.body}, ignore_index=True)\n",
    "    data.to_csv(f'../data/comments/{id}.csv', encoding='utf_8_sig')\n",
    "    print(id, 'finished', end='\\r', flush=True)\n"
   ]
  }
 ],
 "metadata": {
  "interpreter": {
   "hash": "67f1dc6f6f712f7142079021955b91e049abb319dcfdc9eed010dd73dd4d845d"
  },
  "kernelspec": {
   "display_name": "Python 3.9.5 64-bit",
   "language": "python",
   "name": "python3"
  },
  "language_info": {
   "codemirror_mode": {
    "name": "ipython",
    "version": 3
   },
   "file_extension": ".py",
   "mimetype": "text/x-python",
   "name": "python",
   "nbconvert_exporter": "python",
   "pygments_lexer": "ipython3",
   "version": "3.9.5"
  },
  "orig_nbformat": 4
 },
 "nbformat": 4,
 "nbformat_minor": 2
}
