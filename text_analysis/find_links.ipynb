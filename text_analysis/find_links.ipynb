{
 "cells": [
  {
   "cell_type": "code",
   "execution_count": 1,
   "metadata": {},
   "outputs": [],
   "source": [
    "from selenium import webdriver\n",
    "\n",
    "driver = webdriver.Chrome(\"D:\\chromedriver.exe\") # 注意这个路径按照自己电脑上的路径来填写，如果有环境变量，删除参数即可\n",
    "driver.get('https://www.reddit.com/search/?q=stack%20overflow%20survey')\n",
    "# 这里按照自己的需求，滚动页面以收集一定数量的链接即可"
   ]
  },
  {
   "cell_type": "code",
   "execution_count": 2,
   "metadata": {},
   "outputs": [],
   "source": [
    "with open('root_source.html', 'w', encoding='utf-8') as f:\n",
    "    f.write(driver.page_source)\n",
    "driver.quit()"
   ]
  },
  {
   "cell_type": "code",
   "execution_count": 3,
   "metadata": {},
   "outputs": [],
   "source": [
    "from bs4 import BeautifulSoup\n",
    "import json\n",
    "with open('root_source.html', 'r', encoding='utf-8') as f:\n",
    "    soup = BeautifulSoup(f.read())\n",
    "arr = [a.attrs['href'] for a in soup.find_all('a', attrs={'data-click-id':'timestamp'})]\n",
    "with open('links.json', 'w', encoding='utf-8') as f:\n",
    "    json.dump(arr, f, ensure_ascii=False, indent=4)"
   ]
  }
 ],
 "metadata": {
  "interpreter": {
   "hash": "67f1dc6f6f712f7142079021955b91e049abb319dcfdc9eed010dd73dd4d845d"
  },
  "kernelspec": {
   "display_name": "Python 3.9.5 64-bit",
   "language": "python",
   "name": "python3"
  },
  "language_info": {
   "codemirror_mode": {
    "name": "ipython",
    "version": 3
   },
   "file_extension": ".py",
   "mimetype": "text/x-python",
   "name": "python",
   "nbconvert_exporter": "python",
   "pygments_lexer": "ipython3",
   "version": "3.9.5"
  },
  "orig_nbformat": 4
 },
 "nbformat": 4,
 "nbformat_minor": 2
}
